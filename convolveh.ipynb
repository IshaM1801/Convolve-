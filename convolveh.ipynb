{
 "cells": [
  {
   "cell_type": "code",
   "execution_count": 140,
   "metadata": {},
   "outputs": [],
   "source": [
    "import lightgbm as lgb\n",
    "import pandas as pd\n"
   ]
  },
  {
   "cell_type": "code",
   "execution_count": 141,
   "metadata": {},
   "outputs": [],
   "source": [
    "import pandas as pd\n",
    "from sklearn.model_selection import train_test_split, GridSearchCV\n",
    "from imblearn.over_sampling import SMOTE\n",
    "from catboost import CatBoostClassifier\n",
    "import lightgbm as lgb\n",
    "from imblearn.pipeline import Pipeline\n",
    "from sklearn.preprocessing import StandardScaler\n",
    "from sklearn.compose import ColumnTransformer\n",
    "from sklearn.impute import SimpleImputer\n",
    "from sklearn.ensemble import RandomForestClassifier\n"
   ]
  },
  {
   "cell_type": "code",
   "execution_count": 142,
   "metadata": {},
   "outputs": [],
   "source": [
    "dev_data=pd.read_csv('Dev_data_to_be_shared.csv')"
   ]
  },
  {
   "cell_type": "code",
   "execution_count": 143,
   "metadata": {},
   "outputs": [],
   "source": [
    "df=pd.DataFrame(dev_data)"
   ]
  },
  {
   "cell_type": "code",
   "execution_count": 144,
   "metadata": {},
   "outputs": [
    {
     "name": "stdout",
     "output_type": "stream",
     "text": [
      "<class 'pandas.core.frame.DataFrame'>\n",
      "RangeIndex: 96806 entries, 0 to 96805\n",
      "Columns: 1216 entries, account_number to onus_attribute_48\n",
      "dtypes: float64(1189), int64(27)\n",
      "memory usage: 898.1 MB\n"
     ]
    }
   ],
   "source": [
    "dev_data.info()"
   ]
  },
  {
   "cell_type": "code",
   "execution_count": 145,
   "metadata": {},
   "outputs": [
    {
     "data": {
      "text/html": [
       "<div>\n",
       "<style scoped>\n",
       "    .dataframe tbody tr th:only-of-type {\n",
       "        vertical-align: middle;\n",
       "    }\n",
       "\n",
       "    .dataframe tbody tr th {\n",
       "        vertical-align: top;\n",
       "    }\n",
       "\n",
       "    .dataframe thead th {\n",
       "        text-align: right;\n",
       "    }\n",
       "</style>\n",
       "<table border=\"1\" class=\"dataframe\">\n",
       "  <thead>\n",
       "    <tr style=\"text-align: right;\">\n",
       "      <th></th>\n",
       "      <th>account_number</th>\n",
       "      <th>bad_flag</th>\n",
       "      <th>onus_attribute_1</th>\n",
       "      <th>transaction_attribute_1</th>\n",
       "      <th>transaction_attribute_2</th>\n",
       "      <th>transaction_attribute_3</th>\n",
       "      <th>transaction_attribute_4</th>\n",
       "      <th>transaction_attribute_5</th>\n",
       "      <th>transaction_attribute_6</th>\n",
       "      <th>transaction_attribute_7</th>\n",
       "      <th>...</th>\n",
       "      <th>bureau_enquiry_47</th>\n",
       "      <th>bureau_enquiry_48</th>\n",
       "      <th>bureau_enquiry_49</th>\n",
       "      <th>bureau_enquiry_50</th>\n",
       "      <th>onus_attribute_43</th>\n",
       "      <th>onus_attribute_44</th>\n",
       "      <th>onus_attribute_45</th>\n",
       "      <th>onus_attribute_46</th>\n",
       "      <th>onus_attribute_47</th>\n",
       "      <th>onus_attribute_48</th>\n",
       "    </tr>\n",
       "  </thead>\n",
       "  <tbody>\n",
       "    <tr>\n",
       "      <th>count</th>\n",
       "      <td>96806.000000</td>\n",
       "      <td>96806.000000</td>\n",
       "      <td>7.157500e+04</td>\n",
       "      <td>71575.000000</td>\n",
       "      <td>71575.000000</td>\n",
       "      <td>71575.000000</td>\n",
       "      <td>71575.000000</td>\n",
       "      <td>71575.000000</td>\n",
       "      <td>71575.000000</td>\n",
       "      <td>71575.000000</td>\n",
       "      <td>...</td>\n",
       "      <td>94212.0</td>\n",
       "      <td>94212.000000</td>\n",
       "      <td>94212.000000</td>\n",
       "      <td>94212.000000</td>\n",
       "      <td>11610.000000</td>\n",
       "      <td>11610.000000</td>\n",
       "      <td>11610.000000</td>\n",
       "      <td>11610.000000</td>\n",
       "      <td>11610.000000</td>\n",
       "      <td>11610.000000</td>\n",
       "    </tr>\n",
       "    <tr>\n",
       "      <th>mean</th>\n",
       "      <td>48403.500000</td>\n",
       "      <td>0.014173</td>\n",
       "      <td>1.542391e+05</td>\n",
       "      <td>9.570769</td>\n",
       "      <td>0.002207</td>\n",
       "      <td>4.092854</td>\n",
       "      <td>77.306435</td>\n",
       "      <td>0.006315</td>\n",
       "      <td>67.043550</td>\n",
       "      <td>0.081034</td>\n",
       "      <td>...</td>\n",
       "      <td>0.0</td>\n",
       "      <td>0.189657</td>\n",
       "      <td>0.044283</td>\n",
       "      <td>7.800673</td>\n",
       "      <td>0.588114</td>\n",
       "      <td>1.497158</td>\n",
       "      <td>0.545650</td>\n",
       "      <td>1.430491</td>\n",
       "      <td>0.121447</td>\n",
       "      <td>0.119208</td>\n",
       "    </tr>\n",
       "    <tr>\n",
       "      <th>std</th>\n",
       "      <td>27945.629417</td>\n",
       "      <td>0.118203</td>\n",
       "      <td>1.729925e+05</td>\n",
       "      <td>1513.967595</td>\n",
       "      <td>0.119240</td>\n",
       "      <td>301.580599</td>\n",
       "      <td>3164.987013</td>\n",
       "      <td>0.129545</td>\n",
       "      <td>2516.330899</td>\n",
       "      <td>14.203615</td>\n",
       "      <td>...</td>\n",
       "      <td>0.0</td>\n",
       "      <td>0.597298</td>\n",
       "      <td>0.369451</td>\n",
       "      <td>8.655149</td>\n",
       "      <td>1.059613</td>\n",
       "      <td>1.702795</td>\n",
       "      <td>1.055865</td>\n",
       "      <td>1.728950</td>\n",
       "      <td>0.601256</td>\n",
       "      <td>0.599697</td>\n",
       "    </tr>\n",
       "    <tr>\n",
       "      <th>min</th>\n",
       "      <td>1.000000</td>\n",
       "      <td>0.000000</td>\n",
       "      <td>2.500000e+04</td>\n",
       "      <td>0.000000</td>\n",
       "      <td>0.000000</td>\n",
       "      <td>0.000000</td>\n",
       "      <td>-109800.476600</td>\n",
       "      <td>0.000000</td>\n",
       "      <td>-3498.000000</td>\n",
       "      <td>0.000000</td>\n",
       "      <td>...</td>\n",
       "      <td>0.0</td>\n",
       "      <td>0.000000</td>\n",
       "      <td>0.000000</td>\n",
       "      <td>0.000000</td>\n",
       "      <td>0.000000</td>\n",
       "      <td>0.000000</td>\n",
       "      <td>0.000000</td>\n",
       "      <td>0.000000</td>\n",
       "      <td>0.000000</td>\n",
       "      <td>0.000000</td>\n",
       "    </tr>\n",
       "    <tr>\n",
       "      <th>25%</th>\n",
       "      <td>24202.250000</td>\n",
       "      <td>0.000000</td>\n",
       "      <td>5.900000e+04</td>\n",
       "      <td>0.000000</td>\n",
       "      <td>0.000000</td>\n",
       "      <td>0.000000</td>\n",
       "      <td>0.000000</td>\n",
       "      <td>0.000000</td>\n",
       "      <td>0.000000</td>\n",
       "      <td>0.000000</td>\n",
       "      <td>...</td>\n",
       "      <td>0.0</td>\n",
       "      <td>0.000000</td>\n",
       "      <td>0.000000</td>\n",
       "      <td>2.000000</td>\n",
       "      <td>0.000000</td>\n",
       "      <td>1.000000</td>\n",
       "      <td>0.000000</td>\n",
       "      <td>1.000000</td>\n",
       "      <td>0.000000</td>\n",
       "      <td>0.000000</td>\n",
       "    </tr>\n",
       "    <tr>\n",
       "      <th>50%</th>\n",
       "      <td>48403.500000</td>\n",
       "      <td>0.000000</td>\n",
       "      <td>1.000000e+05</td>\n",
       "      <td>0.000000</td>\n",
       "      <td>0.000000</td>\n",
       "      <td>0.000000</td>\n",
       "      <td>0.000000</td>\n",
       "      <td>0.000000</td>\n",
       "      <td>0.000000</td>\n",
       "      <td>0.000000</td>\n",
       "      <td>...</td>\n",
       "      <td>0.0</td>\n",
       "      <td>0.000000</td>\n",
       "      <td>0.000000</td>\n",
       "      <td>5.000000</td>\n",
       "      <td>0.000000</td>\n",
       "      <td>1.000000</td>\n",
       "      <td>0.000000</td>\n",
       "      <td>1.000000</td>\n",
       "      <td>0.000000</td>\n",
       "      <td>0.000000</td>\n",
       "    </tr>\n",
       "    <tr>\n",
       "      <th>75%</th>\n",
       "      <td>72604.750000</td>\n",
       "      <td>0.000000</td>\n",
       "      <td>1.810000e+05</td>\n",
       "      <td>0.000000</td>\n",
       "      <td>0.000000</td>\n",
       "      <td>0.000000</td>\n",
       "      <td>0.000000</td>\n",
       "      <td>0.000000</td>\n",
       "      <td>0.000000</td>\n",
       "      <td>0.000000</td>\n",
       "      <td>...</td>\n",
       "      <td>0.0</td>\n",
       "      <td>0.000000</td>\n",
       "      <td>0.000000</td>\n",
       "      <td>11.000000</td>\n",
       "      <td>1.000000</td>\n",
       "      <td>2.000000</td>\n",
       "      <td>1.000000</td>\n",
       "      <td>2.000000</td>\n",
       "      <td>0.000000</td>\n",
       "      <td>0.000000</td>\n",
       "    </tr>\n",
       "    <tr>\n",
       "      <th>max</th>\n",
       "      <td>96806.000000</td>\n",
       "      <td>1.000000</td>\n",
       "      <td>2.800000e+06</td>\n",
       "      <td>398936.791000</td>\n",
       "      <td>25.000000</td>\n",
       "      <td>55000.000000</td>\n",
       "      <td>358986.000000</td>\n",
       "      <td>12.000000</td>\n",
       "      <td>358986.000000</td>\n",
       "      <td>3150.000000</td>\n",
       "      <td>...</td>\n",
       "      <td>0.0</td>\n",
       "      <td>18.000000</td>\n",
       "      <td>14.000000</td>\n",
       "      <td>102.000000</td>\n",
       "      <td>19.000000</td>\n",
       "      <td>38.000000</td>\n",
       "      <td>19.000000</td>\n",
       "      <td>38.000000</td>\n",
       "      <td>15.000000</td>\n",
       "      <td>15.000000</td>\n",
       "    </tr>\n",
       "  </tbody>\n",
       "</table>\n",
       "<p>8 rows × 1216 columns</p>\n",
       "</div>"
      ],
      "text/plain": [
       "       account_number      bad_flag  onus_attribute_1  \\\n",
       "count    96806.000000  96806.000000      7.157500e+04   \n",
       "mean     48403.500000      0.014173      1.542391e+05   \n",
       "std      27945.629417      0.118203      1.729925e+05   \n",
       "min          1.000000      0.000000      2.500000e+04   \n",
       "25%      24202.250000      0.000000      5.900000e+04   \n",
       "50%      48403.500000      0.000000      1.000000e+05   \n",
       "75%      72604.750000      0.000000      1.810000e+05   \n",
       "max      96806.000000      1.000000      2.800000e+06   \n",
       "\n",
       "       transaction_attribute_1  transaction_attribute_2  \\\n",
       "count             71575.000000             71575.000000   \n",
       "mean                  9.570769                 0.002207   \n",
       "std                1513.967595                 0.119240   \n",
       "min                   0.000000                 0.000000   \n",
       "25%                   0.000000                 0.000000   \n",
       "50%                   0.000000                 0.000000   \n",
       "75%                   0.000000                 0.000000   \n",
       "max              398936.791000                25.000000   \n",
       "\n",
       "       transaction_attribute_3  transaction_attribute_4  \\\n",
       "count             71575.000000             71575.000000   \n",
       "mean                  4.092854                77.306435   \n",
       "std                 301.580599              3164.987013   \n",
       "min                   0.000000           -109800.476600   \n",
       "25%                   0.000000                 0.000000   \n",
       "50%                   0.000000                 0.000000   \n",
       "75%                   0.000000                 0.000000   \n",
       "max               55000.000000            358986.000000   \n",
       "\n",
       "       transaction_attribute_5  transaction_attribute_6  \\\n",
       "count             71575.000000             71575.000000   \n",
       "mean                  0.006315                67.043550   \n",
       "std                   0.129545              2516.330899   \n",
       "min                   0.000000             -3498.000000   \n",
       "25%                   0.000000                 0.000000   \n",
       "50%                   0.000000                 0.000000   \n",
       "75%                   0.000000                 0.000000   \n",
       "max                  12.000000            358986.000000   \n",
       "\n",
       "       transaction_attribute_7  ...  bureau_enquiry_47  bureau_enquiry_48  \\\n",
       "count             71575.000000  ...            94212.0       94212.000000   \n",
       "mean                  0.081034  ...                0.0           0.189657   \n",
       "std                  14.203615  ...                0.0           0.597298   \n",
       "min                   0.000000  ...                0.0           0.000000   \n",
       "25%                   0.000000  ...                0.0           0.000000   \n",
       "50%                   0.000000  ...                0.0           0.000000   \n",
       "75%                   0.000000  ...                0.0           0.000000   \n",
       "max                3150.000000  ...                0.0          18.000000   \n",
       "\n",
       "       bureau_enquiry_49  bureau_enquiry_50  onus_attribute_43  \\\n",
       "count       94212.000000       94212.000000       11610.000000   \n",
       "mean            0.044283           7.800673           0.588114   \n",
       "std             0.369451           8.655149           1.059613   \n",
       "min             0.000000           0.000000           0.000000   \n",
       "25%             0.000000           2.000000           0.000000   \n",
       "50%             0.000000           5.000000           0.000000   \n",
       "75%             0.000000          11.000000           1.000000   \n",
       "max            14.000000         102.000000          19.000000   \n",
       "\n",
       "       onus_attribute_44  onus_attribute_45  onus_attribute_46  \\\n",
       "count       11610.000000       11610.000000       11610.000000   \n",
       "mean            1.497158           0.545650           1.430491   \n",
       "std             1.702795           1.055865           1.728950   \n",
       "min             0.000000           0.000000           0.000000   \n",
       "25%             1.000000           0.000000           1.000000   \n",
       "50%             1.000000           0.000000           1.000000   \n",
       "75%             2.000000           1.000000           2.000000   \n",
       "max            38.000000          19.000000          38.000000   \n",
       "\n",
       "       onus_attribute_47  onus_attribute_48  \n",
       "count       11610.000000       11610.000000  \n",
       "mean            0.121447           0.119208  \n",
       "std             0.601256           0.599697  \n",
       "min             0.000000           0.000000  \n",
       "25%             0.000000           0.000000  \n",
       "50%             0.000000           0.000000  \n",
       "75%             0.000000           0.000000  \n",
       "max            15.000000          15.000000  \n",
       "\n",
       "[8 rows x 1216 columns]"
      ]
     },
     "execution_count": 145,
     "metadata": {},
     "output_type": "execute_result"
    }
   ],
   "source": [
    "dev_data.describe()"
   ]
  },
  {
   "cell_type": "code",
   "execution_count": 146,
   "metadata": {},
   "outputs": [
    {
     "data": {
      "text/plain": [
       "account_number                 0\n",
       "bad_flag                       0\n",
       "onus_attribute_1           25231\n",
       "transaction_attribute_1    25231\n",
       "transaction_attribute_2    25231\n",
       "                           ...  \n",
       "onus_attribute_44          85196\n",
       "onus_attribute_45          85196\n",
       "onus_attribute_46          85196\n",
       "onus_attribute_47          85196\n",
       "onus_attribute_48          85196\n",
       "Length: 1216, dtype: int64"
      ]
     },
     "execution_count": 146,
     "metadata": {},
     "output_type": "execute_result"
    }
   ],
   "source": [
    "dev_data.isnull().sum()"
   ]
  },
  {
   "cell_type": "code",
   "execution_count": 147,
   "metadata": {},
   "outputs": [
    {
     "data": {
      "text/plain": [
       "bad_flag\n",
       "0    0.985827\n",
       "1    0.014173\n",
       "Name: proportion, dtype: float64"
      ]
     },
     "execution_count": 147,
     "metadata": {},
     "output_type": "execute_result"
    }
   ],
   "source": [
    "dev_data['bad_flag'].value_counts(normalize=True)"
   ]
  },
  {
   "cell_type": "code",
   "execution_count": 148,
   "metadata": {},
   "outputs": [
    {
     "name": "stdout",
     "output_type": "stream",
     "text": [
      "On-us attributes: []\n",
      "Transaction attributes: ['transaction_attribute_1', 'transaction_attribute_2', 'transaction_attribute_3', 'transaction_attribute_4', 'transaction_attribute_5']\n",
      "Bureau tradeline attributes: ['bureau_1', 'bureau_2', 'bureau_3', 'bureau_4', 'bureau_5']\n",
      "Bureau enquiry attributes: ['bureau_enquiry_1', 'bureau_enquiry_2', 'bureau_enquiry_3', 'bureau_enquiry_4', 'bureau_enquiry_5']\n",
      "On-us Attributes: 0 columns\n",
      "Transaction Attributes: 664 columns\n",
      "Bureau Tradeline Attributes: 452 columns\n",
      "Bureau Enquiry Attributes: 50 columns\n"
     ]
    }
   ],
   "source": [
    "# Assuming dev_data is already loaded\n",
    "import pandas as pd\n",
    "\n",
    "# List all columns in the dataset\n",
    "columns = dev_data.columns\n",
    "\n",
    "# Split columns into the respective groups\n",
    "onus_attributes = [col for col in columns if col.startswith('onus_attributes')]\n",
    "transaction_attributes = [col for col in columns if col.startswith('transaction_attribute')]\n",
    "\n",
    "# Bureau: Columns that start with 'bureau' but not 'bureau_enquiry'\n",
    "bureau_attributes = [col for col in columns if col.startswith('bureau') and not col.startswith('bureau_enquiry')]\n",
    "\n",
    "# Bureau Enquiry: Columns that start with 'bureau_enquiry'\n",
    "bureau_enquiry_attributes = [col for col in columns if col.startswith('bureau_enquiry')]\n",
    "\n",
    "# Print the first few columns from each group to verify\n",
    "print(\"On-us attributes:\", onus_attributes[:5])  # Show top 5 for inspection\n",
    "print(\"Transaction attributes:\", transaction_attributes[:5])\n",
    "print(\"Bureau tradeline attributes:\", bureau_attributes[:5])\n",
    "print(\"Bureau enquiry attributes:\", bureau_enquiry_attributes[:5])\n",
    "\n",
    "# Optionally, store these groups in a dictionary for easy access\n",
    "attribute_groups = {\n",
    "    \"On-us Attributes\": onus_attributes,\n",
    "    \"Transaction Attributes\": transaction_attributes,\n",
    "    \"Bureau Tradeline Attributes\": bureau_attributes,\n",
    "    \"Bureau Enquiry Attributes\": bureau_enquiry_attributes\n",
    "}\n",
    "\n",
    "# Verify the number of columns in each group\n",
    "for group, columns_list in attribute_groups.items():\n",
    "    print(f\"{group}: {len(columns_list)} columns\")\n",
    "\n"
   ]
  },
  {
   "cell_type": "code",
   "execution_count": 149,
   "metadata": {},
   "outputs": [
    {
     "data": {
      "text/plain": [
       "(96806, 1216)"
      ]
     },
     "execution_count": 149,
     "metadata": {},
     "output_type": "execute_result"
    }
   ],
   "source": [
    "dev_data.shape"
   ]
  },
  {
   "cell_type": "code",
   "execution_count": 150,
   "metadata": {},
   "outputs": [
    {
     "data": {
      "text/plain": [
       "Index(['account_number', 'bad_flag', 'onus_attribute_1',\n",
       "       'transaction_attribute_1', 'transaction_attribute_2',\n",
       "       'transaction_attribute_3', 'transaction_attribute_4',\n",
       "       'transaction_attribute_5', 'transaction_attribute_6',\n",
       "       'transaction_attribute_7',\n",
       "       ...\n",
       "       'bureau_enquiry_47', 'bureau_enquiry_48', 'bureau_enquiry_49',\n",
       "       'bureau_enquiry_50', 'onus_attribute_43', 'onus_attribute_44',\n",
       "       'onus_attribute_45', 'onus_attribute_46', 'onus_attribute_47',\n",
       "       'onus_attribute_48'],\n",
       "      dtype='object', length=1216)"
      ]
     },
     "execution_count": 150,
     "metadata": {},
     "output_type": "execute_result"
    }
   ],
   "source": [
    "dev_data.columns.unique()"
   ]
  },
  {
   "cell_type": "code",
   "execution_count": 151,
   "metadata": {},
   "outputs": [
    {
     "name": "stdout",
     "output_type": "stream",
     "text": [
      "bureau_436           100.000000\n",
      "bureau_447           100.000000\n",
      "bureau_449            94.124331\n",
      "bureau_148            93.552053\n",
      "bureau_448            90.028511\n",
      "                        ...    \n",
      "onus_attribute_37      0.000000\n",
      "onus_attribute_38      0.000000\n",
      "onus_attribute_39      0.000000\n",
      "onus_attribute_40      0.000000\n",
      "account_number         0.000000\n",
      "Length: 1216, dtype: float64\n"
     ]
    }
   ],
   "source": [
    "missing_percent = df.isnull().sum() / len(df) * 100\n",
    "print(missing_percent.sort_values(ascending=False))"
   ]
  },
  {
   "cell_type": "code",
   "execution_count": 152,
   "metadata": {},
   "outputs": [
    {
     "name": "stdout",
     "output_type": "stream",
     "text": [
      "Index([], dtype='object')\n"
     ]
    }
   ],
   "source": [
    "df = df.dropna(axis=1, how='all')\n",
    "columns_to_drop = df.columns[df.isna().all()]\n",
    "print(columns_to_drop)"
   ]
  },
  {
   "cell_type": "code",
   "execution_count": 153,
   "metadata": {},
   "outputs": [
    {
     "data": {
      "text/plain": [
       "account_number                 0\n",
       "bad_flag                       0\n",
       "onus_attribute_1           25231\n",
       "transaction_attribute_1    25231\n",
       "transaction_attribute_2    25231\n",
       "                           ...  \n",
       "onus_attribute_44          85196\n",
       "onus_attribute_45          85196\n",
       "onus_attribute_46          85196\n",
       "onus_attribute_47          85196\n",
       "onus_attribute_48          85196\n",
       "Length: 1214, dtype: int64"
      ]
     },
     "execution_count": 153,
     "metadata": {},
     "output_type": "execute_result"
    }
   ],
   "source": [
    "df.isnull().sum()"
   ]
  },
  {
   "cell_type": "code",
   "execution_count": 154,
   "metadata": {},
   "outputs": [],
   "source": [
    "from sklearn.model_selection import train_test_split"
   ]
  },
  {
   "cell_type": "code",
   "execution_count": 155,
   "metadata": {},
   "outputs": [],
   "source": [
    "X=df.drop(columns=\"bad_flag\")\n",
    "y=df[\"bad_flag\"]\n",
    "X_train, X_test, y_train, y_test = train_test_split(X, y, test_size=0.2, random_state=42)"
   ]
  },
  {
   "cell_type": "code",
   "execution_count": 156,
   "metadata": {},
   "outputs": [
    {
     "data": {
      "text/plain": [
       "account_number                 0\n",
       "bad_flag                       0\n",
       "onus_attribute_1           25231\n",
       "transaction_attribute_1    25231\n",
       "transaction_attribute_2    25231\n",
       "                           ...  \n",
       "onus_attribute_44          85196\n",
       "onus_attribute_45          85196\n",
       "onus_attribute_46          85196\n",
       "onus_attribute_47          85196\n",
       "onus_attribute_48          85196\n",
       "Length: 1214, dtype: int64"
      ]
     },
     "execution_count": 156,
     "metadata": {},
     "output_type": "execute_result"
    }
   ],
   "source": [
    "df.isnull().sum()"
   ]
  },
  {
   "cell_type": "code",
   "execution_count": 157,
   "metadata": {},
   "outputs": [],
   "source": [
    "# Drop columns with more than 70% missing values\n",
    "threshold = 0.7 * len(df)\n",
    "df = df.dropna(axis=1, thresh=threshold)\n",
    "\n"
   ]
  },
  {
   "cell_type": "code",
   "execution_count": 158,
   "metadata": {},
   "outputs": [
    {
     "data": {
      "text/plain": [
       "account_number                 0\n",
       "bad_flag                       0\n",
       "onus_attribute_1           25231\n",
       "transaction_attribute_1    25231\n",
       "transaction_attribute_2    25231\n",
       "                           ...  \n",
       "bureau_enquiry_46           2594\n",
       "bureau_enquiry_47           2594\n",
       "bureau_enquiry_48           2594\n",
       "bureau_enquiry_49           2594\n",
       "bureau_enquiry_50           2594\n",
       "Length: 1191, dtype: int64"
      ]
     },
     "execution_count": 158,
     "metadata": {},
     "output_type": "execute_result"
    }
   ],
   "source": [
    "df.isnull().sum()"
   ]
  },
  {
   "cell_type": "code",
   "execution_count": 159,
   "metadata": {},
   "outputs": [],
   "source": [
    "from sklearn.impute import SimpleImputer\n",
    "\n",
    "# Median imputation for numerical columns\n",
    "imputer = SimpleImputer(strategy='median')\n",
    "num_cols = df.select_dtypes(include=['float64', 'int64']).columns\n",
    "df[num_cols] = imputer.fit_transform(df[num_cols])\n"
   ]
  },
  {
   "cell_type": "code",
   "execution_count": 160,
   "metadata": {},
   "outputs": [
    {
     "data": {
      "text/plain": [
       "account_number             0\n",
       "bad_flag                   0\n",
       "onus_attribute_1           0\n",
       "transaction_attribute_1    0\n",
       "transaction_attribute_2    0\n",
       "                          ..\n",
       "bureau_enquiry_46          0\n",
       "bureau_enquiry_47          0\n",
       "bureau_enquiry_48          0\n",
       "bureau_enquiry_49          0\n",
       "bureau_enquiry_50          0\n",
       "Length: 1191, dtype: int64"
      ]
     },
     "execution_count": 160,
     "metadata": {},
     "output_type": "execute_result"
    }
   ],
   "source": [
    "df.isnull().sum()"
   ]
  },
  {
   "cell_type": "code",
   "execution_count": 161,
   "metadata": {},
   "outputs": [
    {
     "data": {
      "text/plain": [
       "(96806, 1191)"
      ]
     },
     "execution_count": 161,
     "metadata": {},
     "output_type": "execute_result"
    }
   ],
   "source": [
    "df.shape"
   ]
  },
  {
   "cell_type": "code",
   "execution_count": 162,
   "metadata": {},
   "outputs": [
    {
     "name": "stderr",
     "output_type": "stream",
     "text": [
      "/Users/ishamadlani/Desktop/conv/env/lib/python3.9/site-packages/sklearn/base.py:474: FutureWarning: `BaseEstimator._validate_data` is deprecated in 1.6 and will be removed in 1.7. Use `sklearn.utils.validation.validate_data` instead. This function becomes public and is part of the scikit-learn developer API.\n",
      "  warnings.warn(\n",
      "/Users/ishamadlani/Desktop/conv/env/lib/python3.9/site-packages/sklearn/base.py:474: FutureWarning: `BaseEstimator._validate_data` is deprecated in 1.6 and will be removed in 1.7. Use `sklearn.utils.validation.validate_data` instead. This function becomes public and is part of the scikit-learn developer API.\n",
      "  warnings.warn(\n",
      "/Users/ishamadlani/Desktop/conv/env/lib/python3.9/site-packages/sklearn/utils/deprecation.py:151: FutureWarning: 'force_all_finite' was renamed to 'ensure_all_finite' in 1.6 and will be removed in 1.8.\n",
      "  warnings.warn(\n"
     ]
    },
    {
     "name": "stdout",
     "output_type": "stream",
     "text": [
      "[LightGBM] [Info] Number of positive: 76342, number of negative: 76342\n",
      "[LightGBM] [Info] Auto-choosing col-wise multi-threading, the overhead of testing was 0.094666 seconds.\n",
      "You can set `force_col_wise=true` to remove the overhead.\n",
      "[LightGBM] [Info] Total Bins 127500\n",
      "[LightGBM] [Info] Number of data points in the train set: 152684, number of used features: 500\n",
      "[LightGBM] [Info] [binary:BoostFromScore]: pavg=0.500000 -> initscore=0.000000\n"
     ]
    },
    {
     "data": {
      "text/html": [
       "<style>#sk-container-id-1 {\n",
       "  /* Definition of color scheme common for light and dark mode */\n",
       "  --sklearn-color-text: #000;\n",
       "  --sklearn-color-text-muted: #666;\n",
       "  --sklearn-color-line: gray;\n",
       "  /* Definition of color scheme for unfitted estimators */\n",
       "  --sklearn-color-unfitted-level-0: #fff5e6;\n",
       "  --sklearn-color-unfitted-level-1: #f6e4d2;\n",
       "  --sklearn-color-unfitted-level-2: #ffe0b3;\n",
       "  --sklearn-color-unfitted-level-3: chocolate;\n",
       "  /* Definition of color scheme for fitted estimators */\n",
       "  --sklearn-color-fitted-level-0: #f0f8ff;\n",
       "  --sklearn-color-fitted-level-1: #d4ebff;\n",
       "  --sklearn-color-fitted-level-2: #b3dbfd;\n",
       "  --sklearn-color-fitted-level-3: cornflowerblue;\n",
       "\n",
       "  /* Specific color for light theme */\n",
       "  --sklearn-color-text-on-default-background: var(--sg-text-color, var(--theme-code-foreground, var(--jp-content-font-color1, black)));\n",
       "  --sklearn-color-background: var(--sg-background-color, var(--theme-background, var(--jp-layout-color0, white)));\n",
       "  --sklearn-color-border-box: var(--sg-text-color, var(--theme-code-foreground, var(--jp-content-font-color1, black)));\n",
       "  --sklearn-color-icon: #696969;\n",
       "\n",
       "  @media (prefers-color-scheme: dark) {\n",
       "    /* Redefinition of color scheme for dark theme */\n",
       "    --sklearn-color-text-on-default-background: var(--sg-text-color, var(--theme-code-foreground, var(--jp-content-font-color1, white)));\n",
       "    --sklearn-color-background: var(--sg-background-color, var(--theme-background, var(--jp-layout-color0, #111)));\n",
       "    --sklearn-color-border-box: var(--sg-text-color, var(--theme-code-foreground, var(--jp-content-font-color1, white)));\n",
       "    --sklearn-color-icon: #878787;\n",
       "  }\n",
       "}\n",
       "\n",
       "#sk-container-id-1 {\n",
       "  color: var(--sklearn-color-text);\n",
       "}\n",
       "\n",
       "#sk-container-id-1 pre {\n",
       "  padding: 0;\n",
       "}\n",
       "\n",
       "#sk-container-id-1 input.sk-hidden--visually {\n",
       "  border: 0;\n",
       "  clip: rect(1px 1px 1px 1px);\n",
       "  clip: rect(1px, 1px, 1px, 1px);\n",
       "  height: 1px;\n",
       "  margin: -1px;\n",
       "  overflow: hidden;\n",
       "  padding: 0;\n",
       "  position: absolute;\n",
       "  width: 1px;\n",
       "}\n",
       "\n",
       "#sk-container-id-1 div.sk-dashed-wrapped {\n",
       "  border: 1px dashed var(--sklearn-color-line);\n",
       "  margin: 0 0.4em 0.5em 0.4em;\n",
       "  box-sizing: border-box;\n",
       "  padding-bottom: 0.4em;\n",
       "  background-color: var(--sklearn-color-background);\n",
       "}\n",
       "\n",
       "#sk-container-id-1 div.sk-container {\n",
       "  /* jupyter's `normalize.less` sets `[hidden] { display: none; }`\n",
       "     but bootstrap.min.css set `[hidden] { display: none !important; }`\n",
       "     so we also need the `!important` here to be able to override the\n",
       "     default hidden behavior on the sphinx rendered scikit-learn.org.\n",
       "     See: https://github.com/scikit-learn/scikit-learn/issues/21755 */\n",
       "  display: inline-block !important;\n",
       "  position: relative;\n",
       "}\n",
       "\n",
       "#sk-container-id-1 div.sk-text-repr-fallback {\n",
       "  display: none;\n",
       "}\n",
       "\n",
       "div.sk-parallel-item,\n",
       "div.sk-serial,\n",
       "div.sk-item {\n",
       "  /* draw centered vertical line to link estimators */\n",
       "  background-image: linear-gradient(var(--sklearn-color-text-on-default-background), var(--sklearn-color-text-on-default-background));\n",
       "  background-size: 2px 100%;\n",
       "  background-repeat: no-repeat;\n",
       "  background-position: center center;\n",
       "}\n",
       "\n",
       "/* Parallel-specific style estimator block */\n",
       "\n",
       "#sk-container-id-1 div.sk-parallel-item::after {\n",
       "  content: \"\";\n",
       "  width: 100%;\n",
       "  border-bottom: 2px solid var(--sklearn-color-text-on-default-background);\n",
       "  flex-grow: 1;\n",
       "}\n",
       "\n",
       "#sk-container-id-1 div.sk-parallel {\n",
       "  display: flex;\n",
       "  align-items: stretch;\n",
       "  justify-content: center;\n",
       "  background-color: var(--sklearn-color-background);\n",
       "  position: relative;\n",
       "}\n",
       "\n",
       "#sk-container-id-1 div.sk-parallel-item {\n",
       "  display: flex;\n",
       "  flex-direction: column;\n",
       "}\n",
       "\n",
       "#sk-container-id-1 div.sk-parallel-item:first-child::after {\n",
       "  align-self: flex-end;\n",
       "  width: 50%;\n",
       "}\n",
       "\n",
       "#sk-container-id-1 div.sk-parallel-item:last-child::after {\n",
       "  align-self: flex-start;\n",
       "  width: 50%;\n",
       "}\n",
       "\n",
       "#sk-container-id-1 div.sk-parallel-item:only-child::after {\n",
       "  width: 0;\n",
       "}\n",
       "\n",
       "/* Serial-specific style estimator block */\n",
       "\n",
       "#sk-container-id-1 div.sk-serial {\n",
       "  display: flex;\n",
       "  flex-direction: column;\n",
       "  align-items: center;\n",
       "  background-color: var(--sklearn-color-background);\n",
       "  padding-right: 1em;\n",
       "  padding-left: 1em;\n",
       "}\n",
       "\n",
       "\n",
       "/* Toggleable style: style used for estimator/Pipeline/ColumnTransformer box that is\n",
       "clickable and can be expanded/collapsed.\n",
       "- Pipeline and ColumnTransformer use this feature and define the default style\n",
       "- Estimators will overwrite some part of the style using the `sk-estimator` class\n",
       "*/\n",
       "\n",
       "/* Pipeline and ColumnTransformer style (default) */\n",
       "\n",
       "#sk-container-id-1 div.sk-toggleable {\n",
       "  /* Default theme specific background. It is overwritten whether we have a\n",
       "  specific estimator or a Pipeline/ColumnTransformer */\n",
       "  background-color: var(--sklearn-color-background);\n",
       "}\n",
       "\n",
       "/* Toggleable label */\n",
       "#sk-container-id-1 label.sk-toggleable__label {\n",
       "  cursor: pointer;\n",
       "  display: flex;\n",
       "  width: 100%;\n",
       "  margin-bottom: 0;\n",
       "  padding: 0.5em;\n",
       "  box-sizing: border-box;\n",
       "  text-align: center;\n",
       "  align-items: start;\n",
       "  justify-content: space-between;\n",
       "  gap: 0.5em;\n",
       "}\n",
       "\n",
       "#sk-container-id-1 label.sk-toggleable__label .caption {\n",
       "  font-size: 0.6rem;\n",
       "  font-weight: lighter;\n",
       "  color: var(--sklearn-color-text-muted);\n",
       "}\n",
       "\n",
       "#sk-container-id-1 label.sk-toggleable__label-arrow:before {\n",
       "  /* Arrow on the left of the label */\n",
       "  content: \"▸\";\n",
       "  float: left;\n",
       "  margin-right: 0.25em;\n",
       "  color: var(--sklearn-color-icon);\n",
       "}\n",
       "\n",
       "#sk-container-id-1 label.sk-toggleable__label-arrow:hover:before {\n",
       "  color: var(--sklearn-color-text);\n",
       "}\n",
       "\n",
       "/* Toggleable content - dropdown */\n",
       "\n",
       "#sk-container-id-1 div.sk-toggleable__content {\n",
       "  max-height: 0;\n",
       "  max-width: 0;\n",
       "  overflow: hidden;\n",
       "  text-align: left;\n",
       "  /* unfitted */\n",
       "  background-color: var(--sklearn-color-unfitted-level-0);\n",
       "}\n",
       "\n",
       "#sk-container-id-1 div.sk-toggleable__content.fitted {\n",
       "  /* fitted */\n",
       "  background-color: var(--sklearn-color-fitted-level-0);\n",
       "}\n",
       "\n",
       "#sk-container-id-1 div.sk-toggleable__content pre {\n",
       "  margin: 0.2em;\n",
       "  border-radius: 0.25em;\n",
       "  color: var(--sklearn-color-text);\n",
       "  /* unfitted */\n",
       "  background-color: var(--sklearn-color-unfitted-level-0);\n",
       "}\n",
       "\n",
       "#sk-container-id-1 div.sk-toggleable__content.fitted pre {\n",
       "  /* unfitted */\n",
       "  background-color: var(--sklearn-color-fitted-level-0);\n",
       "}\n",
       "\n",
       "#sk-container-id-1 input.sk-toggleable__control:checked~div.sk-toggleable__content {\n",
       "  /* Expand drop-down */\n",
       "  max-height: 200px;\n",
       "  max-width: 100%;\n",
       "  overflow: auto;\n",
       "}\n",
       "\n",
       "#sk-container-id-1 input.sk-toggleable__control:checked~label.sk-toggleable__label-arrow:before {\n",
       "  content: \"▾\";\n",
       "}\n",
       "\n",
       "/* Pipeline/ColumnTransformer-specific style */\n",
       "\n",
       "#sk-container-id-1 div.sk-label input.sk-toggleable__control:checked~label.sk-toggleable__label {\n",
       "  color: var(--sklearn-color-text);\n",
       "  background-color: var(--sklearn-color-unfitted-level-2);\n",
       "}\n",
       "\n",
       "#sk-container-id-1 div.sk-label.fitted input.sk-toggleable__control:checked~label.sk-toggleable__label {\n",
       "  background-color: var(--sklearn-color-fitted-level-2);\n",
       "}\n",
       "\n",
       "/* Estimator-specific style */\n",
       "\n",
       "/* Colorize estimator box */\n",
       "#sk-container-id-1 div.sk-estimator input.sk-toggleable__control:checked~label.sk-toggleable__label {\n",
       "  /* unfitted */\n",
       "  background-color: var(--sklearn-color-unfitted-level-2);\n",
       "}\n",
       "\n",
       "#sk-container-id-1 div.sk-estimator.fitted input.sk-toggleable__control:checked~label.sk-toggleable__label {\n",
       "  /* fitted */\n",
       "  background-color: var(--sklearn-color-fitted-level-2);\n",
       "}\n",
       "\n",
       "#sk-container-id-1 div.sk-label label.sk-toggleable__label,\n",
       "#sk-container-id-1 div.sk-label label {\n",
       "  /* The background is the default theme color */\n",
       "  color: var(--sklearn-color-text-on-default-background);\n",
       "}\n",
       "\n",
       "/* On hover, darken the color of the background */\n",
       "#sk-container-id-1 div.sk-label:hover label.sk-toggleable__label {\n",
       "  color: var(--sklearn-color-text);\n",
       "  background-color: var(--sklearn-color-unfitted-level-2);\n",
       "}\n",
       "\n",
       "/* Label box, darken color on hover, fitted */\n",
       "#sk-container-id-1 div.sk-label.fitted:hover label.sk-toggleable__label.fitted {\n",
       "  color: var(--sklearn-color-text);\n",
       "  background-color: var(--sklearn-color-fitted-level-2);\n",
       "}\n",
       "\n",
       "/* Estimator label */\n",
       "\n",
       "#sk-container-id-1 div.sk-label label {\n",
       "  font-family: monospace;\n",
       "  font-weight: bold;\n",
       "  display: inline-block;\n",
       "  line-height: 1.2em;\n",
       "}\n",
       "\n",
       "#sk-container-id-1 div.sk-label-container {\n",
       "  text-align: center;\n",
       "}\n",
       "\n",
       "/* Estimator-specific */\n",
       "#sk-container-id-1 div.sk-estimator {\n",
       "  font-family: monospace;\n",
       "  border: 1px dotted var(--sklearn-color-border-box);\n",
       "  border-radius: 0.25em;\n",
       "  box-sizing: border-box;\n",
       "  margin-bottom: 0.5em;\n",
       "  /* unfitted */\n",
       "  background-color: var(--sklearn-color-unfitted-level-0);\n",
       "}\n",
       "\n",
       "#sk-container-id-1 div.sk-estimator.fitted {\n",
       "  /* fitted */\n",
       "  background-color: var(--sklearn-color-fitted-level-0);\n",
       "}\n",
       "\n",
       "/* on hover */\n",
       "#sk-container-id-1 div.sk-estimator:hover {\n",
       "  /* unfitted */\n",
       "  background-color: var(--sklearn-color-unfitted-level-2);\n",
       "}\n",
       "\n",
       "#sk-container-id-1 div.sk-estimator.fitted:hover {\n",
       "  /* fitted */\n",
       "  background-color: var(--sklearn-color-fitted-level-2);\n",
       "}\n",
       "\n",
       "/* Specification for estimator info (e.g. \"i\" and \"?\") */\n",
       "\n",
       "/* Common style for \"i\" and \"?\" */\n",
       "\n",
       ".sk-estimator-doc-link,\n",
       "a:link.sk-estimator-doc-link,\n",
       "a:visited.sk-estimator-doc-link {\n",
       "  float: right;\n",
       "  font-size: smaller;\n",
       "  line-height: 1em;\n",
       "  font-family: monospace;\n",
       "  background-color: var(--sklearn-color-background);\n",
       "  border-radius: 1em;\n",
       "  height: 1em;\n",
       "  width: 1em;\n",
       "  text-decoration: none !important;\n",
       "  margin-left: 0.5em;\n",
       "  text-align: center;\n",
       "  /* unfitted */\n",
       "  border: var(--sklearn-color-unfitted-level-1) 1pt solid;\n",
       "  color: var(--sklearn-color-unfitted-level-1);\n",
       "}\n",
       "\n",
       ".sk-estimator-doc-link.fitted,\n",
       "a:link.sk-estimator-doc-link.fitted,\n",
       "a:visited.sk-estimator-doc-link.fitted {\n",
       "  /* fitted */\n",
       "  border: var(--sklearn-color-fitted-level-1) 1pt solid;\n",
       "  color: var(--sklearn-color-fitted-level-1);\n",
       "}\n",
       "\n",
       "/* On hover */\n",
       "div.sk-estimator:hover .sk-estimator-doc-link:hover,\n",
       ".sk-estimator-doc-link:hover,\n",
       "div.sk-label-container:hover .sk-estimator-doc-link:hover,\n",
       ".sk-estimator-doc-link:hover {\n",
       "  /* unfitted */\n",
       "  background-color: var(--sklearn-color-unfitted-level-3);\n",
       "  color: var(--sklearn-color-background);\n",
       "  text-decoration: none;\n",
       "}\n",
       "\n",
       "div.sk-estimator.fitted:hover .sk-estimator-doc-link.fitted:hover,\n",
       ".sk-estimator-doc-link.fitted:hover,\n",
       "div.sk-label-container:hover .sk-estimator-doc-link.fitted:hover,\n",
       ".sk-estimator-doc-link.fitted:hover {\n",
       "  /* fitted */\n",
       "  background-color: var(--sklearn-color-fitted-level-3);\n",
       "  color: var(--sklearn-color-background);\n",
       "  text-decoration: none;\n",
       "}\n",
       "\n",
       "/* Span, style for the box shown on hovering the info icon */\n",
       ".sk-estimator-doc-link span {\n",
       "  display: none;\n",
       "  z-index: 9999;\n",
       "  position: relative;\n",
       "  font-weight: normal;\n",
       "  right: .2ex;\n",
       "  padding: .5ex;\n",
       "  margin: .5ex;\n",
       "  width: min-content;\n",
       "  min-width: 20ex;\n",
       "  max-width: 50ex;\n",
       "  color: var(--sklearn-color-text);\n",
       "  box-shadow: 2pt 2pt 4pt #999;\n",
       "  /* unfitted */\n",
       "  background: var(--sklearn-color-unfitted-level-0);\n",
       "  border: .5pt solid var(--sklearn-color-unfitted-level-3);\n",
       "}\n",
       "\n",
       ".sk-estimator-doc-link.fitted span {\n",
       "  /* fitted */\n",
       "  background: var(--sklearn-color-fitted-level-0);\n",
       "  border: var(--sklearn-color-fitted-level-3);\n",
       "}\n",
       "\n",
       ".sk-estimator-doc-link:hover span {\n",
       "  display: block;\n",
       "}\n",
       "\n",
       "/* \"?\"-specific style due to the `<a>` HTML tag */\n",
       "\n",
       "#sk-container-id-1 a.estimator_doc_link {\n",
       "  float: right;\n",
       "  font-size: 1rem;\n",
       "  line-height: 1em;\n",
       "  font-family: monospace;\n",
       "  background-color: var(--sklearn-color-background);\n",
       "  border-radius: 1rem;\n",
       "  height: 1rem;\n",
       "  width: 1rem;\n",
       "  text-decoration: none;\n",
       "  /* unfitted */\n",
       "  color: var(--sklearn-color-unfitted-level-1);\n",
       "  border: var(--sklearn-color-unfitted-level-1) 1pt solid;\n",
       "}\n",
       "\n",
       "#sk-container-id-1 a.estimator_doc_link.fitted {\n",
       "  /* fitted */\n",
       "  border: var(--sklearn-color-fitted-level-1) 1pt solid;\n",
       "  color: var(--sklearn-color-fitted-level-1);\n",
       "}\n",
       "\n",
       "/* On hover */\n",
       "#sk-container-id-1 a.estimator_doc_link:hover {\n",
       "  /* unfitted */\n",
       "  background-color: var(--sklearn-color-unfitted-level-3);\n",
       "  color: var(--sklearn-color-background);\n",
       "  text-decoration: none;\n",
       "}\n",
       "\n",
       "#sk-container-id-1 a.estimator_doc_link.fitted:hover {\n",
       "  /* fitted */\n",
       "  background-color: var(--sklearn-color-fitted-level-3);\n",
       "}\n",
       "</style><div id=\"sk-container-id-1\" class=\"sk-top-container\"><div class=\"sk-text-repr-fallback\"><pre>Pipeline(steps=[(&#x27;imputer&#x27;, SimpleImputer()), (&#x27;scaler&#x27;, StandardScaler()),\n",
       "                (&#x27;pca&#x27;, PCA(n_components=500)),\n",
       "                (&#x27;smote&#x27;, SMOTE(random_state=42)),\n",
       "                (&#x27;model&#x27;,\n",
       "                 LGBMClassifier(max_depth=6, n_estimators=1000,\n",
       "                                random_state=42))])</pre><b>In a Jupyter environment, please rerun this cell to show the HTML representation or trust the notebook. <br />On GitHub, the HTML representation is unable to render, please try loading this page with nbviewer.org.</b></div><div class=\"sk-container\" hidden><div class=\"sk-item sk-dashed-wrapped\"><div class=\"sk-label-container\"><div class=\"sk-label fitted sk-toggleable\"><input class=\"sk-toggleable__control sk-hidden--visually\" id=\"sk-estimator-id-1\" type=\"checkbox\" ><label for=\"sk-estimator-id-1\" class=\"sk-toggleable__label fitted sk-toggleable__label-arrow\"><div><div>Pipeline</div></div><div><span class=\"sk-estimator-doc-link fitted\">i<span>Fitted</span></span></div></label><div class=\"sk-toggleable__content fitted\"><pre>Pipeline(steps=[(&#x27;imputer&#x27;, SimpleImputer()), (&#x27;scaler&#x27;, StandardScaler()),\n",
       "                (&#x27;pca&#x27;, PCA(n_components=500)),\n",
       "                (&#x27;smote&#x27;, SMOTE(random_state=42)),\n",
       "                (&#x27;model&#x27;,\n",
       "                 LGBMClassifier(max_depth=6, n_estimators=1000,\n",
       "                                random_state=42))])</pre></div> </div></div><div class=\"sk-serial\"><div class=\"sk-item\"><div class=\"sk-estimator fitted sk-toggleable\"><input class=\"sk-toggleable__control sk-hidden--visually\" id=\"sk-estimator-id-2\" type=\"checkbox\" ><label for=\"sk-estimator-id-2\" class=\"sk-toggleable__label fitted sk-toggleable__label-arrow\"><div><div>SimpleImputer</div></div><div><a class=\"sk-estimator-doc-link fitted\" rel=\"noreferrer\" target=\"_blank\" href=\"https://scikit-learn.org/1.6/modules/generated/sklearn.impute.SimpleImputer.html\">?<span>Documentation for SimpleImputer</span></a></div></label><div class=\"sk-toggleable__content fitted\"><pre>SimpleImputer()</pre></div> </div></div><div class=\"sk-item\"><div class=\"sk-estimator fitted sk-toggleable\"><input class=\"sk-toggleable__control sk-hidden--visually\" id=\"sk-estimator-id-3\" type=\"checkbox\" ><label for=\"sk-estimator-id-3\" class=\"sk-toggleable__label fitted sk-toggleable__label-arrow\"><div><div>StandardScaler</div></div><div><a class=\"sk-estimator-doc-link fitted\" rel=\"noreferrer\" target=\"_blank\" href=\"https://scikit-learn.org/1.6/modules/generated/sklearn.preprocessing.StandardScaler.html\">?<span>Documentation for StandardScaler</span></a></div></label><div class=\"sk-toggleable__content fitted\"><pre>StandardScaler()</pre></div> </div></div><div class=\"sk-item\"><div class=\"sk-estimator fitted sk-toggleable\"><input class=\"sk-toggleable__control sk-hidden--visually\" id=\"sk-estimator-id-4\" type=\"checkbox\" ><label for=\"sk-estimator-id-4\" class=\"sk-toggleable__label fitted sk-toggleable__label-arrow\"><div><div>PCA</div></div><div><a class=\"sk-estimator-doc-link fitted\" rel=\"noreferrer\" target=\"_blank\" href=\"https://scikit-learn.org/1.6/modules/generated/sklearn.decomposition.PCA.html\">?<span>Documentation for PCA</span></a></div></label><div class=\"sk-toggleable__content fitted\"><pre>PCA(n_components=500)</pre></div> </div></div><div class=\"sk-item\"><div class=\"sk-estimator fitted sk-toggleable\"><input class=\"sk-toggleable__control sk-hidden--visually\" id=\"sk-estimator-id-5\" type=\"checkbox\" ><label for=\"sk-estimator-id-5\" class=\"sk-toggleable__label fitted sk-toggleable__label-arrow\"><div><div>SMOTE</div></div></label><div class=\"sk-toggleable__content fitted\"><pre>SMOTE(random_state=42)</pre></div> </div></div><div class=\"sk-item\"><div class=\"sk-estimator fitted sk-toggleable\"><input class=\"sk-toggleable__control sk-hidden--visually\" id=\"sk-estimator-id-6\" type=\"checkbox\" ><label for=\"sk-estimator-id-6\" class=\"sk-toggleable__label fitted sk-toggleable__label-arrow\"><div><div>LGBMClassifier</div></div></label><div class=\"sk-toggleable__content fitted\"><pre>LGBMClassifier(max_depth=6, n_estimators=1000, random_state=42)</pre></div> </div></div></div></div></div></div>"
      ],
      "text/plain": [
       "Pipeline(steps=[('imputer', SimpleImputer()), ('scaler', StandardScaler()),\n",
       "                ('pca', PCA(n_components=500)),\n",
       "                ('smote', SMOTE(random_state=42)),\n",
       "                ('model',\n",
       "                 LGBMClassifier(max_depth=6, n_estimators=1000,\n",
       "                                random_state=42))])"
      ]
     },
     "execution_count": 162,
     "metadata": {},
     "output_type": "execute_result"
    }
   ],
   "source": [
    "from imblearn.pipeline import Pipeline  # Import the imbalanced-learn pipeline\n",
    "from sklearn.decomposition import PCA\n",
    "from sklearn.impute import SimpleImputer\n",
    "from sklearn.preprocessing import StandardScaler\n",
    "from imblearn.over_sampling import SMOTE\n",
    "from sklearn.ensemble import RandomForestClassifier  # RandomForestClassifier as an alternative model\n",
    "import lightgbm as lgb\n",
    "\n",
    "# Preprocess with PCA (dimensionality reduction)\n",
    "pca = PCA(n_components=500)  # Adjust the number of components as needed\n",
    "\n",
    "# Define preprocessing steps directly\n",
    "preprocessor = [\n",
    "    ('imputer', SimpleImputer(strategy='mean')),\n",
    "    ('scaler', StandardScaler()),\n",
    "    ('pca', pca)  # PCA for dimensionality reduction\n",
    "]\n",
    "\n",
    "# Define models\n",
    "rf_model = RandomForestClassifier(n_estimators=100, random_state=42)  # RandomForestClassifier\n",
    "lgb_model = lgb.LGBMClassifier(learning_rate=0.1, max_depth=6, n_estimators=1000, random_state=42)\n",
    "\n",
    "# Create the pipeline for RandomForest with SMOTE\n",
    "rf_pipeline_with_pca = Pipeline(steps=[\n",
    "    ('imputer', SimpleImputer(strategy='mean')),\n",
    "    ('scaler', StandardScaler()),\n",
    "    ('pca', pca),  # PCA for dimensionality reduction\n",
    "    ('smote', SMOTE(random_state=42)),  # SMOTE for balancing data\n",
    "    ('model', rf_model)  # Model step\n",
    "])\n",
    "\n",
    "# Create the pipeline for LightGBM with SMOTE\n",
    "lgb_pipeline_with_pca = Pipeline(steps=[\n",
    "    ('imputer', SimpleImputer(strategy='mean')),\n",
    "    ('scaler', StandardScaler()),\n",
    "    ('pca', pca),  # PCA for dimensionality reduction\n",
    "    ('smote', SMOTE(random_state=42)),  # SMOTE for balancing data\n",
    "    ('model', lgb_model)  # Model step\n",
    "])\n",
    "\n",
    "# Fit the RandomForest model\n",
    "rf_pipeline_with_pca.fit(X_train, y_train)\n",
    "\n",
    "# Fit the LightGBM model\n",
    "lgb_pipeline_with_pca.fit(X_train, y_train)\n"
   ]
  },
  {
   "cell_type": "code",
   "execution_count": 163,
   "metadata": {},
   "outputs": [
    {
     "data": {
      "text/plain": [
       "(19362, 1213)"
      ]
     },
     "execution_count": 163,
     "metadata": {},
     "output_type": "execute_result"
    }
   ],
   "source": [
    "X_test.shape"
   ]
  },
  {
   "cell_type": "code",
   "execution_count": 164,
   "metadata": {},
   "outputs": [
    {
     "name": "stdout",
     "output_type": "stream",
     "text": [
      "RandomForest Training Accuracy: 0.9957905066887041\n",
      "RandomForest Test Accuracy: 0.9830079537237889\n"
     ]
    },
    {
     "name": "stderr",
     "output_type": "stream",
     "text": [
      "/Users/ishamadlani/Desktop/conv/env/lib/python3.9/site-packages/sklearn/utils/deprecation.py:151: FutureWarning: 'force_all_finite' was renamed to 'ensure_all_finite' in 1.6 and will be removed in 1.8.\n",
      "  warnings.warn(\n",
      "/Users/ishamadlani/Desktop/conv/env/lib/python3.9/site-packages/sklearn/utils/deprecation.py:151: FutureWarning: 'force_all_finite' was renamed to 'ensure_all_finite' in 1.6 and will be removed in 1.8.\n",
      "  warnings.warn(\n"
     ]
    },
    {
     "name": "stdout",
     "output_type": "stream",
     "text": [
      "LightGBM Training Accuracy: 1.0\n",
      "LightGBM Test Accuracy: 0.9818200599111662\n"
     ]
    },
    {
     "name": "stderr",
     "output_type": "stream",
     "text": [
      "/Users/ishamadlani/Desktop/conv/env/lib/python3.9/site-packages/sklearn/utils/deprecation.py:151: FutureWarning: 'force_all_finite' was renamed to 'ensure_all_finite' in 1.6 and will be removed in 1.8.\n",
      "  warnings.warn(\n"
     ]
    },
    {
     "data": {
      "text/plain": [
       "<sklearn.metrics._plot.confusion_matrix.ConfusionMatrixDisplay at 0x3176a62b0>"
      ]
     },
     "execution_count": 164,
     "metadata": {},
     "output_type": "execute_result"
    },
    {
     "data": {
      "image/png": "[encoded data removed]",
      "text/plain": [
       "<Figure size 640x480 with 2 Axes>"
      ]
     },
     "metadata": {},
     "output_type": "display_data"
    },
    {
     "data": {
      "image/png": "[encoded data removed]",
      "text/plain": [
       "<Figure size 640x480 with 2 Axes>"
      ]
     },
     "metadata": {},
     "output_type": "display_data"
    },
    {
     "data": {
      "image/png": "[encoded data removed]",
      "text/plain": [
       "<Figure size 640x480 with 2 Axes>"
      ]
     },
     "metadata": {},
     "output_type": "display_data"
    },
    {
     "data": {
      "image/png": "[encoded data removed]",
      "text/plain": [
       "<Figure size 640x480 with 2 Axes>"
      ]
     },
     "metadata": {},
     "output_type": "display_data"
    }
   ],
   "source": [
    "# Evaluate the RandomForest model\n",
    "acc_train_rf = rf_pipeline_with_pca.score(X_train, y_train)\n",
    "acc_test_rf = rf_pipeline_with_pca.score(X_test, y_test)\n",
    "print(\"RandomForest Training Accuracy:\", acc_train_rf)\n",
    "print(\"RandomForest Test Accuracy:\", acc_test_rf)\n",
    "\n",
    "# Evaluate the LightGBM model\n",
    "acc_train_lgb = lgb_pipeline_with_pca.score(X_train, y_train)\n",
    "acc_test_lgb = lgb_pipeline_with_pca.score(X_test, y_test)\n",
    "print(\"LightGBM Training Accuracy:\", acc_train_lgb)\n",
    "print(\"LightGBM Test Accuracy:\", acc_test_lgb)\n",
    "\n",
    "# Display confusion matrix for RandomForest\n",
    "from sklearn.metrics import ConfusionMatrixDisplay\n",
    "ConfusionMatrixDisplay.from_estimator(rf_pipeline_with_pca, X_test, y_test).plot()\n",
    "\n",
    "# Display confusion matrix for LightGBM\n",
    "ConfusionMatrixDisplay.from_estimator(lgb_pipeline_with_pca, X_test, y_test).plot()\n"
   ]
  },
  {
   "cell_type": "code",
   "execution_count": 165,
   "metadata": {},
   "outputs": [
    {
     "name": "stderr",
     "output_type": "stream",
     "text": [
      "/Users/ishamadlani/Desktop/conv/env/lib/python3.9/site-packages/sklearn/utils/deprecation.py:151: FutureWarning: 'force_all_finite' was renamed to 'ensure_all_finite' in 1.6 and will be removed in 1.8.\n",
      "  warnings.warn(\n"
     ]
    },
    {
     "name": "stdout",
     "output_type": "stream",
     "text": [
      "RandomForest F1 Score: 0.977854264158488\n",
      "LightGBM F1 Score: 0.9778941601323238\n"
     ]
    }
   ],
   "source": [
    "from sklearn.metrics import f1_score\n",
    "\n",
    "# Predictions for F1 Score\n",
    "y_pred_rf = rf_pipeline_with_pca.predict(X_test)\n",
    "y_pred_lgb = lgb_pipeline_with_pca.predict(X_test)\n",
    "\n",
    "# F1 Score for RandomForest\n",
    "f1_rf = f1_score(y_test, y_pred_rf, average='weighted')  # Use 'weighted' for class imbalance\n",
    "\n",
    "# F1 Score for LightGBM\n",
    "f1_lgb = f1_score(y_test, y_pred_lgb, average='weighted')\n",
    "\n",
    "print(\"RandomForest F1 Score:\", f1_rf)\n",
    "print(\"LightGBM F1 Score:\", f1_lgb)\n"
   ]
  },
  {
   "cell_type": "code",
   "execution_count": 167,
   "metadata": {},
   "outputs": [
    {
     "name": "stdout",
     "output_type": "stream",
     "text": [
      "RandomForest PR AUC: 0.030785214425340594\n",
      "LightGBM PR AUC: 0.03870545387531098\n"
     ]
    }
   ],
   "source": [
    "from sklearn.metrics import precision_recall_curve, auc\n",
    "\n",
    "# PR AUC for RandomForest\n",
    "precision_rf, recall_rf, _ = precision_recall_curve(y_test, y_proba_rf[:, 1], pos_label=1)\n",
    "pr_auc_rf = auc(recall_rf, precision_rf)\n",
    "\n",
    "# PR AUC for LightGBM\n",
    "precision_lgb, recall_lgb, _ = precision_recall_curve(y_test, y_proba_lgb[:, 1], pos_label=1)\n",
    "pr_auc_lgb = auc(recall_lgb, precision_lgb)\n",
    "\n",
    "print(\"RandomForest PR AUC:\", pr_auc_rf)\n",
    "print(\"LightGBM PR AUC:\", pr_auc_lgb)\n"
   ]
  },
  {
   "cell_type": "code",
   "execution_count": 168,
   "metadata": {},
   "outputs": [
    {
     "name": "stdout",
     "output_type": "stream",
     "text": [
      "RandomForest G-Mean: 0.15631178553285272\n",
      "LightGBM G-Mean: 0.2380165083399619\n"
     ]
    }
   ],
   "source": [
    "from imblearn.metrics import geometric_mean_score\n",
    "\n",
    "# G-Mean for RandomForest\n",
    "gmean_rf = geometric_mean_score(y_test, y_pred_rf, average='weighted')\n",
    "\n",
    "# G-Mean for LightGBM\n",
    "gmean_lgb = geometric_mean_score(y_test, y_pred_lgb, average='weighted')\n",
    "\n",
    "print(\"RandomForest G-Mean:\", gmean_rf)\n",
    "print(\"LightGBM G-Mean:\", gmean_lgb)\n"
   ]
  },
  {
   "cell_type": "code",
   "execution_count": 169,
   "metadata": {},
   "outputs": [
    {
     "name": "stdout",
     "output_type": "stream",
     "text": [
      "RandomForest MCC: 0.01594159309240368\n",
      "LightGBM MCC: 0.06280563754256806\n"
     ]
    }
   ],
   "source": [
    "from sklearn.metrics import matthews_corrcoef\n",
    "\n",
    "# MCC for RandomForest\n",
    "mcc_rf = matthews_corrcoef(y_test, y_pred_rf)\n",
    "\n",
    "# MCC for LightGBM\n",
    "mcc_lgb = matthews_corrcoef(y_test, y_pred_lgb)\n",
    "\n",
    "print(\"RandomForest MCC:\", mcc_rf)\n",
    "print(\"LightGBM MCC:\", mcc_lgb)\n"
   ]
  },
  {
   "cell_type": "code",
   "execution_count": 170,
   "metadata": {},
   "outputs": [
    {
     "name": "stdout",
     "output_type": "stream",
     "text": [
      "RandomForest Cohen's Kappa: 0.0125670227261101\n",
      "LightGBM Cohen's Kappa: 0.056410801686642253\n"
     ]
    }
   ],
   "source": [
    "from sklearn.metrics import cohen_kappa_score\n",
    "\n",
    "# Cohen's Kappa for RandomForest\n",
    "kappa_rf = cohen_kappa_score(y_test, y_pred_rf)\n",
    "\n",
    "# Cohen's Kappa for LightGBM\n",
    "kappa_lgb = cohen_kappa_score(y_test, y_pred_lgb)\n",
    "\n",
    "print(\"RandomForest Cohen's Kappa:\", kappa_rf)\n",
    "print(\"LightGBM Cohen's Kappa:\", kappa_lgb)\n"
   ]
  },
  {
   "cell_type": "code",
   "execution_count": 171,
   "metadata": {},
   "outputs": [
    {
     "name": "stdout",
     "output_type": "stream",
     "text": [
      "RandomForest Weighted Cost: 596\n",
      "LightGBM Weighted Cost: 610\n"
     ]
    }
   ],
   "source": [
    "# Example cost weights\n",
    "cost_weights = {\n",
    "    'TP': 0,   # No cost for true positives\n",
    "    'FP': 1,   # Cost for false positives\n",
    "    'FN': 2,   # Higher cost for false negatives\n",
    "    'TN': 0    # No cost for true negatives\n",
    "}\n",
    "\n",
    "# Confusion Matrix\n",
    "from sklearn.metrics import confusion_matrix\n",
    "cm_rf = confusion_matrix(y_test, y_pred_rf)\n",
    "cm_lgb = confusion_matrix(y_test, y_pred_lgb)\n",
    "\n",
    "# Calculate costs\n",
    "cost_rf = (cm_rf[0, 1] * cost_weights['FP'] + \n",
    "           cm_rf[1, 0] * cost_weights['FN'])\n",
    "\n",
    "cost_lgb = (cm_lgb[0, 1] * cost_weights['FP'] + \n",
    "            cm_lgb[1, 0] * cost_weights['FN'])\n",
    "\n",
    "print(\"RandomForest Weighted Cost:\", cost_rf)\n",
    "print(\"LightGBM Weighted Cost:\", cost_lgb)\n"
   ]
  }
 ],
 "metadata": {
  "kernelspec": {
   "display_name": "env",
   "language": "python",
   "name": "python3"
  },
  "language_info": {
   "codemirror_mode": {
    "name": "ipython",
    "version": 3
   },
   "file_extension": ".py",
   "mimetype": "text/x-python",
   "name": "python",
   "nbconvert_exporter": "python",
   "pygments_lexer": "ipython3",
   "version": "3.9.6"
  }
 },
 "nbformat": 4,
 "nbformat_minor": 2
}
